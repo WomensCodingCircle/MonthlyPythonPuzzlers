{
 "cells": [
  {
   "cell_type": "markdown",
   "metadata": {},
   "source": [
    "Helpful link: http://pythonforbiologists.com/index.php/introduction-to-python-for-biologists/writing-our-own-functions/"
   ]
  },
  {
   "cell_type": "markdown",
   "metadata": {},
   "source": [
    "Percentage of amino acid residues, part one\n",
    "\n",
    "Write a function that takes two arguments – a protein sequence and an amino acid residue code – and returns the percentage of the protein that the amino acid makes up. Use the following assertions to test your function:\n",
    "1\n",
    "2\n",
    "3\n",
    "4\n",
    "\t\n",
    "assert my_function(\"MSRSLLLRFLLFLLLLPPLP\", \"M\") == 5\n",
    "assert my_function(\"MSRSLLLRFLLFLLLLPPLP\", \"r\") == 10\n",
    "assert my_function(\"MSRSLLLRFLLFLLLLPPLP\", \"L\") == 50\n",
    "assert my_function(\"MSRSLLLRFLLFLLLLPPLP\", \"Y\") == 0\n",
    "\n",
    "Reminder: if you’re using Python 2 rather than Python 3, include this line at the top of your program:\n",
    "1\n",
    "\t\n",
    "from __future__ import division"
   ]
  },
  {
   "cell_type": "code",
   "execution_count": null,
   "metadata": {
    "collapsed": true
   },
   "outputs": [],
   "source": []
  },
  {
   "cell_type": "code",
   "execution_count": null,
   "metadata": {
    "collapsed": true
   },
   "outputs": [],
   "source": [
    "assert my_function(\"MSRSLLLRFLLFLLLLPPLP\", \"M\") == 5\n",
    "assert my_function(\"MSRSLLLRFLLFLLLLPPLP\", \"r\") == 10\n",
    "assert my_function(\"MSRSLLLRFLLFLLLLPPLP\", \"L\") == 50\n",
    "assert my_function(\"MSRSLLLRFLLFLLLLPPLP\", \"Y\") == 0"
   ]
  },
  {
   "cell_type": "markdown",
   "metadata": {},
   "source": [
    "Percentage of amino acid residues, part two\n",
    "\n",
    "Modify the function from part one so that it accepts a list of amino acid residues rather than a single one. \n",
    "If no list is given, the function should return the percentage of hydrophobic amino acid residues (A, I, L, M, F, W, Y and V). \n",
    "Your function should pass the following assertions:\n",
    "1\n",
    "2\n",
    "3\n",
    "4\n",
    "\t\n",
    "assert my_function(\"MSRSLLLRFLLFLLLLPPLP\", [\"M\"]) == 5\n",
    "assert my_function(\"MSRSLLLRFLLFLLLLPPLP\", ['M', 'L']) == 55\n",
    "assert my_function(\"MSRSLLLRFLLFLLLLPPLP\", ['F', 'S', 'L']) == 70\n",
    "assert my_function(\"MSRSLLLRFLLFLLLLPPLP\") == 65"
   ]
  },
  {
   "cell_type": "code",
   "execution_count": null,
   "metadata": {
    "collapsed": true
   },
   "outputs": [],
   "source": [
    "assert my_function(\"MSRSLLLRFLLFLLLLPPLP\", [\"M\"]) == 5\n",
    "assert my_function(\"MSRSLLLRFLLFLLLLPPLP\", ['M', 'L']) == 55\n",
    "assert my_function(\"MSRSLLLRFLLFLLLLPPLP\", ['F', 'S', 'L']) == 70\n",
    "assert my_function(\"MSRSLLLRFLLFLLLLPPLP\") == 65"
   ]
  },
  {
   "cell_type": "code",
   "execution_count": null,
   "metadata": {
    "collapsed": true
   },
   "outputs": [],
   "source": []
  }
 ],
 "metadata": {
  "kernelspec": {
   "display_name": "Python 3",
   "language": "python",
   "name": "python3"
  },
  "language_info": {
   "codemirror_mode": {
    "name": "ipython",
    "version": 3
   },
   "file_extension": ".py",
   "mimetype": "text/x-python",
   "name": "python",
   "nbconvert_exporter": "python",
   "pygments_lexer": "ipython3",
   "version": "3.6.0"
  }
 },
 "nbformat": 4,
 "nbformat_minor": 2
}
